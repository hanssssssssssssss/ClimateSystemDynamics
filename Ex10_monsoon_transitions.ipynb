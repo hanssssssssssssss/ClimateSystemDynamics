{
 "cells": [
  {
   "cell_type": "markdown",
   "metadata": {
    "id": "t4BExgpnJpaV"
   },
   "source": [
    "# Ex10 - Abrupt monsoon transitions"
   ]
  },
  {
   "cell_type": "markdown",
   "metadata": {
    "id": "Zo3LF_5sJQCI"
   },
   "source": [
    "\"The onset of monsoon precipitation in spring is initiated by the development of a tropospheric temperature contrast between land and ocean and associated convergence of moist air over the continent. During the rainy season, the atmospheric heat budget in the monsoon region is then dominated by the so-called moisture–advection feedback:\n",
    "\n",
    "The release of latent heat by precipitation reinforces the land–ocean tropospheric temperature contrast, thereby stabilizing the circulation that brings in more moist air from the ocean, which in turn maintains precipitation. We argue that the moisture–advection feedback stabilizes the rainy monsoon regime by inducing persistence\""
   ]
  },
  {
   "cell_type": "markdown",
   "metadata": {
    "id": "GriINeu1Jxw0"
   },
   "source": [
    "This persistence leads to a hysterisis/\"memory effect\" that can be represented in a \"day-to-day-model\" where on any day $t$, the probability for rainfall $\\tilde{p}_t$ is calculated as the normalization of percipitation parameters observed on $\\tau$ previous days $P_t$:<br/>\n",
    "- The temporal average of the percipitation $\\langle{P}\\rangle^{t-1}_{t-\\tau}$\n",
    "- The percipitation extremes $P_{-}$ and $P_{+}$"
   ]
  },
  {
   "cell_type": "markdown",
   "metadata": {
    "id": "aQGRCWU9J1wN"
   },
   "source": [
    "<div style=\"font-size: 20px\"> $\\tilde{p}_t \\equiv \\frac{\\langle{P}\\rangle^{t-1}_{t-\\tau} - P_{-}}{P_{+} - P_{-}}$ </div>"
   ]
  },
  {
   "cell_type": "code",
   "execution_count": 7,
   "metadata": {
    "id": "KBbwco8uHYwJ"
   },
   "outputs": [],
   "source": [
    "import numpy as np\n",
    "import matplotlib.pyplot as plt"
   ]
  },
  {
   "cell_type": "code",
   "execution_count": 8,
   "metadata": {
    "id": "EVoVL2LlJvIN"
   },
   "outputs": [],
   "source": [
    "def daytoday_probability(P, t, tau, P_strong, P_weak):\n",
    "    \"\"\"\n",
    "    Returns the probability for rain calculated with the given list \n",
    "    of percipitation rates observed on previous days that are normalized along \n",
    "    given min and max values\n",
    "    \"\"\"\n",
    "    P_avg = np.average(P[(t-1-tau):(t-1)])\n",
    "    return (P_avg - P_weak) / (P_strong - P_weak)"
   ]
  },
  {
   "cell_type": "markdown",
   "metadata": {
    "id": "0heFBgt7LsrN"
   },
   "source": [
    "The probability formula will be used to obtain a modeled precipitation rate by averaging over the rainy/dry days (indicated by `P_strong` and `P_weak`) that are drawn on multiple model runs. We also include additional probability parmameters as constraints for initialisation (`p_init`, to model for different environments) and maximum values (`p_max`, to avoid getting stuck in a state): "
   ]
  },
  {
   "cell_type": "code",
   "execution_count": 9,
   "metadata": {
    "id": "vodEdr-0NRHE"
   },
   "outputs": [],
   "source": [
    "def day_to_day_model(n_years, l_season, P_strong, P_weak, tau, p_init, p_max):\n",
    "    year_avg_P = np.zeros(n_years)\n",
    "    for year in range(n_years):\n",
    "        P_season = np.zeros(l_season)\n",
    "        for day in range(l_season):\n",
    "            # use p_init for the beginnign of the season \n",
    "            #(before the memory period can be fully utilized))\n",
    "            if day <= tau:\n",
    "                p = p_init\n",
    "            else:\n",
    "                # calculate the probability with data from previous days\n",
    "                p = daytoday_probability(P_season, day, tau, P_strong, P_weak)\n",
    "                # comply with p_max values\n",
    "                if p > p_max:\n",
    "                    p = p_max\n",
    "                elif p < (1 - p_max):\n",
    "                    p = 1 - p_max\n",
    "            # Use p to draw either a rainy or a dry day for the model season\n",
    "            P_season[day] = np.random.choice([P_strong, P_weak], p=[p, (1-p)])\n",
    "        year_avg_P[year] = np.mean(P_season)\n",
    "    return(year_avg_P)"
   ]
  },
  {
   "cell_type": "markdown",
   "metadata": {
    "id": "i2ugArzKl0d2"
   },
   "source": [
    "### \"Historic\" model"
   ]
  },
  {
   "cell_type": "markdown",
   "metadata": {
    "id": "-I4hQUpxmx_m"
   },
   "source": [
    "Fot the first model we use the following parameters"
   ]
  },
  {
   "cell_type": "code",
   "execution_count": 10,
   "metadata": {
    "id": "EUE7BvDVHbUw"
   },
   "outputs": [],
   "source": [
    "n_years = 6030 # Number of years (seasons) to run\n",
    "l_season = 135 # Length of season in days\n",
    "P_strong = 9. # Precipitation in strong (wet) state, mm/day\n",
    "P_weak = 0. # Precipitation in weak (dry) state, mm/day\n",
    "tau = 17 # Memory length in time steps (days)\n",
    "p_init = 0.75 # Initial probability of strong state - p_init <= p_max\n",
    "p_max = 0.8 # Maximum probability of either state"
   ]
  },
  {
   "cell_type": "code",
   "execution_count": 11,
   "metadata": {
    "id": "dnqncNEKY8ah"
   },
   "outputs": [],
   "source": [
    "year_avg_P_historic = day_to_day_model(n_years, l_season, P_strong, P_weak, tau, p_init, p_max)"
   ]
  },
  {
   "cell_type": "code",
   "execution_count": 15,
   "metadata": {
    "colab": {
     "base_uri": "https://localhost:8080/",
     "height": 265
    },
    "id": "sDAd-Q57lQKo",
    "outputId": "ef03d7bc-d862-4350-dc6c-530496e6345c"
   },
   "outputs": [
    {
     "data": {
      "image/png": "[encoded data removed]",
      "text/plain": [
       "<Figure size 432x288 with 1 Axes>"
      ]
     },
     "metadata": {
      "needs_background": "light"
     },
     "output_type": "display_data"
    }
   ],
   "source": [
    "plt.hist(year_avg_P_historic, bins=30, histtype=\"step\")\n",
    "plt.show()"
   ]
  },
  {
   "cell_type": "markdown",
   "metadata": {
    "id": "4hUpOT19mBRT"
   },
   "source": [
    "### \"Future\" model"
   ]
  },
  {
   "cell_type": "code",
   "execution_count": 18,
   "metadata": {
    "id": "7WkwFbVNm6wO"
   },
   "outputs": [],
   "source": [
    "n_years = 250 # Number of years (seasons) to run\n",
    "l_season = 135 # Length of season in days\n",
    "P_strong = 10.9 # Precipitation in strong (wet) state, mm/day\n",
    "P_weak = 1.9 # Precipitation in weak (dry) state, mm/day\n",
    "tau = 17 # Memory length in time steps (days)\n",
    "p_init = 0.2 # Initial probability of strong state - p_init <= p_max\n",
    "p_max = 0.82 # Maximum probability of either state"
   ]
  },
  {
   "cell_type": "code",
   "execution_count": 19,
   "metadata": {
    "id": "4fWltF4jnaId"
   },
   "outputs": [],
   "source": [
    "year_avg_P_future = day_to_day_model(n_years, l_season, P_strong, P_weak, tau, p_init, p_max)"
   ]
  },
  {
   "cell_type": "code",
   "execution_count": 21,
   "metadata": {
    "colab": {
     "base_uri": "https://localhost:8080/",
     "height": 266
    },
    "id": "a4TJWe-lncmi",
    "outputId": "6729e888-86d7-4469-9db2-82ac2b059abf"
   },
   "outputs": [
    {
     "data": {
      "image/png": "[encoded data removed]",
      "text/plain": [
       "<Figure size 432x288 with 1 Axes>"
      ]
     },
     "metadata": {
      "needs_background": "light"
     },
     "output_type": "display_data"
    }
   ],
   "source": [
    "plt.hist(year_avg_P_future, bins=30, histtype=\"step\")\n",
    "plt.show()"
   ]
  }
 ],
 "metadata": {
  "colab": {
   "collapsed_sections": [],
   "name": "day-to-day.ipynb",
   "provenance": []
  },
  "kernelspec": {
   "display_name": "Python 3",
   "language": "python",
   "name": "python3"
  },
  "language_info": {
   "codemirror_mode": {
    "name": "ipython",
    "version": 3
   },
   "file_extension": ".py",
   "mimetype": "text/x-python",
   "name": "python",
   "nbconvert_exporter": "python",
   "pygments_lexer": "ipython3",
   "version": "3.8.8"
  }
 },
 "nbformat": 4,
 "nbformat_minor": 1
}
