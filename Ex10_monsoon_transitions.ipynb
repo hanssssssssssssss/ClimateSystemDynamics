{
 "cells": [
  {
   "cell_type": "markdown",
   "id": "851140e5",
   "metadata": {},
   "source": [
    "# Ex10 - Abrupt monsoon transitions"
   ]
  },
  {
   "cell_type": "markdown",
   "id": "6330b33a",
   "metadata": {},
   "source": [
    "### Positive feedback systems in India's summer monsoon:"
   ]
  },
  {
   "cell_type": "markdown",
   "id": "e8d7ae1a",
   "metadata": {},
   "source": [
    "\"The onset of monsoon precipitation in spring is initiated by the development of a tropospheric temperature contrast between land and ocean and associated convergence of moist air over the continent.\n",
    "During the rainy season, the atmospheric heat budget in the monsoon region is then dominated by the so-called moisture–advection feedback:\n",
    "<p>The release of latent heat by precipitation reinforces the land–ocean tropospheric temperature contrast, thereby stabilizing the circulation that brings in more moist air from the ocean, which in turn maintains precipitation. We argue that the moisture–advection feedback stabilizes the rainy monsoon regime by inducing persistence\"</p>"
   ]
  },
  {
   "cell_type": "markdown",
   "id": "bbaacadc",
   "metadata": {},
   "source": [
    "This persistence leads to a hysterisis/\"memory effect\" that can be represented in a \"day-to-day-model\" where on any day $t$, the probability for rainfall $\\tilde{p}_t$ is calculated as the normalization of percipitation parameters observed on $\\tau$ previous days $P_t$:<br/>\n",
    "- The temporal average of the percipitation $\\langle{P}\\rangle^{t-1}_{t-\\tau}$\n",
    "- The percipitation extremes $P_{-}$ and $P_{+}$"
   ]
  },
  {
   "cell_type": "markdown",
   "id": "be3eda35",
   "metadata": {},
   "source": [
    "<div style=\"font-size: 20px\"> $\\tilde{p}_t \\equiv \\frac{\\langle{P}\\rangle^{t-1}_{t-\\tau} - P_{-}}{P_{+} - P_{-}}$ </div>"
   ]
  },
  {
   "cell_type": "code",
   "execution_count": 19,
   "id": "b118f70d",
   "metadata": {},
   "outputs": [],
   "source": [
    "import numpy as np\n",
    "\n",
    "def daytoday(P):\n",
    "    \"\"\"\n",
    "    Returns the probability for rain calculated with the given list \n",
    "    of percipitation rates observed on previous days\n",
    "    \"\"\" \n",
    "    return (np.average(P) - min(P)) / (max(p) - min(p))"
   ]
  },
  {
   "cell_type": "code",
   "execution_count": null,
   "id": "3190a0e0",
   "metadata": {},
   "outputs": [],
   "source": []
  }
 ],
 "metadata": {
  "kernelspec": {
   "display_name": "Python 3",
   "language": "python",
   "name": "python3"
  },
  "language_info": {
   "codemirror_mode": {
    "name": "ipython",
    "version": 3
   },
   "file_extension": ".py",
   "mimetype": "text/x-python",
   "name": "python",
   "nbconvert_exporter": "python",
   "pygments_lexer": "ipython3",
   "version": "3.8.8"
  }
 },
 "nbformat": 4,
 "nbformat_minor": 5
}
